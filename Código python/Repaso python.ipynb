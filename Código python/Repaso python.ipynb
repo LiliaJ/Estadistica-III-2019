{
 "cells": [
  {
   "cell_type": "code",
   "execution_count": 8,
   "metadata": {},
   "outputs": [],
   "source": [
    "X = [2,4,5,2,6]"
   ]
  },
  {
   "cell_type": "code",
   "execution_count": 9,
   "metadata": {},
   "outputs": [
    {
     "data": {
      "text/plain": [
       "[2, 4, 5, 2, 6, 23, 4]"
      ]
     },
     "execution_count": 9,
     "metadata": {},
     "output_type": "execute_result"
    }
   ],
   "source": [
    "X+[23,4]"
   ]
  },
  {
   "cell_type": "code",
   "execution_count": 14,
   "metadata": {},
   "outputs": [
    {
     "data": {
      "text/plain": [
       "[2, 4, 5, 2, 6]"
      ]
     },
     "execution_count": 14,
     "metadata": {},
     "output_type": "execute_result"
    }
   ],
   "source": [
    "X*1"
   ]
  },
  {
   "cell_type": "code",
   "execution_count": 159,
   "metadata": {},
   "outputs": [
    {
     "data": {
      "text/plain": [
       "<function sorted>"
      ]
     },
     "execution_count": 159,
     "metadata": {},
     "output_type": "execute_result"
    }
   ],
   "source": [
    "sum\n",
    "max\n",
    "min\n",
    "sorted"
   ]
  },
  {
   "cell_type": "code",
   "execution_count": 22,
   "metadata": {},
   "outputs": [
    {
     "data": {
      "text/plain": [
       "[10, 7, 4, 1, -2, -5, -8, -11, -14]"
      ]
     },
     "execution_count": 22,
     "metadata": {},
     "output_type": "execute_result"
    }
   ],
   "source": [
    "range(10,-15,-3)"
   ]
  },
  {
   "cell_type": "code",
   "execution_count": 25,
   "metadata": {},
   "outputs": [],
   "source": [
    "import numpy as np"
   ]
  },
  {
   "cell_type": "code",
   "execution_count": 33,
   "metadata": {},
   "outputs": [
    {
     "data": {
      "text/plain": [
       "array([[ 1., -1.],\n",
       "       [-1.,  1.]])"
      ]
     },
     "execution_count": 33,
     "metadata": {},
     "output_type": "execute_result"
    }
   ],
   "source": [
    "np.cov([1,2,3],[3,2,1])"
   ]
  },
  {
   "cell_type": "code",
   "execution_count": 58,
   "metadata": {},
   "outputs": [],
   "source": [
    "M = np.matrix([[1,2,3],[12,3,1],[2,3,5]])"
   ]
  },
  {
   "cell_type": "code",
   "execution_count": 79,
   "metadata": {},
   "outputs": [
    {
     "data": {
      "text/plain": [
       "matrix([[ -2,  -3,  -4],\n",
       "        [-13,  -4,  -2],\n",
       "        [ -3,  -4,  -6]])"
      ]
     },
     "execution_count": 79,
     "metadata": {},
     "output_type": "execute_result"
    }
   ],
   "source": [
    "np.invert(M)"
   ]
  },
  {
   "cell_type": "code",
   "execution_count": 35,
   "metadata": {},
   "outputs": [
    {
     "data": {
      "text/plain": [
       "array([0.   , 0.011, 0.022, 0.033, 0.044, 0.055, 0.066, 0.077, 0.088,\n",
       "       0.099, 0.11 , 0.121, 0.132, 0.143, 0.154, 0.165, 0.176, 0.187,\n",
       "       0.198, 0.209, 0.22 , 0.231, 0.242, 0.253, 0.264, 0.275, 0.286,\n",
       "       0.297, 0.308, 0.319, 0.33 , 0.341, 0.352, 0.363, 0.374, 0.385,\n",
       "       0.396, 0.407, 0.418, 0.429, 0.44 , 0.451, 0.462, 0.473, 0.484,\n",
       "       0.495, 0.506, 0.517, 0.528, 0.539, 0.55 , 0.561, 0.572, 0.583,\n",
       "       0.594, 0.605, 0.616, 0.627, 0.638, 0.649, 0.66 , 0.671, 0.682,\n",
       "       0.693, 0.704, 0.715, 0.726, 0.737, 0.748, 0.759, 0.77 , 0.781,\n",
       "       0.792, 0.803, 0.814, 0.825, 0.836, 0.847, 0.858, 0.869, 0.88 ,\n",
       "       0.891, 0.902, 0.913, 0.924, 0.935, 0.946, 0.957, 0.968, 0.979,\n",
       "       0.99 , 1.001, 1.012, 1.023, 1.034, 1.045, 1.056, 1.067, 1.078,\n",
       "       1.089, 1.1  , 1.111, 1.122, 1.133, 1.144, 1.155, 1.166, 1.177,\n",
       "       1.188, 1.199, 1.21 , 1.221, 1.232, 1.243, 1.254, 1.265, 1.276,\n",
       "       1.287, 1.298, 1.309, 1.32 , 1.331, 1.342, 1.353, 1.364, 1.375,\n",
       "       1.386, 1.397, 1.408, 1.419, 1.43 , 1.441, 1.452, 1.463, 1.474,\n",
       "       1.485, 1.496, 1.507, 1.518, 1.529, 1.54 , 1.551, 1.562, 1.573,\n",
       "       1.584, 1.595, 1.606, 1.617, 1.628, 1.639, 1.65 , 1.661, 1.672,\n",
       "       1.683, 1.694, 1.705, 1.716, 1.727, 1.738, 1.749, 1.76 , 1.771,\n",
       "       1.782, 1.793, 1.804, 1.815, 1.826, 1.837, 1.848, 1.859, 1.87 ,\n",
       "       1.881, 1.892, 1.903, 1.914, 1.925, 1.936, 1.947, 1.958, 1.969,\n",
       "       1.98 , 1.991, 2.002, 2.013, 2.024, 2.035, 2.046, 2.057, 2.068,\n",
       "       2.079, 2.09 , 2.101, 2.112, 2.123, 2.134, 2.145, 2.156, 2.167,\n",
       "       2.178, 2.189, 2.2  , 2.211, 2.222, 2.233, 2.244, 2.255, 2.266,\n",
       "       2.277, 2.288, 2.299, 2.31 , 2.321, 2.332, 2.343, 2.354, 2.365,\n",
       "       2.376, 2.387, 2.398, 2.409, 2.42 , 2.431, 2.442, 2.453, 2.464,\n",
       "       2.475, 2.486, 2.497, 2.508, 2.519, 2.53 , 2.541, 2.552, 2.563,\n",
       "       2.574, 2.585, 2.596, 2.607, 2.618, 2.629, 2.64 , 2.651, 2.662,\n",
       "       2.673, 2.684, 2.695, 2.706, 2.717, 2.728, 2.739, 2.75 , 2.761,\n",
       "       2.772, 2.783, 2.794, 2.805, 2.816, 2.827, 2.838, 2.849, 2.86 ,\n",
       "       2.871, 2.882, 2.893, 2.904, 2.915, 2.926, 2.937, 2.948, 2.959,\n",
       "       2.97 , 2.981, 2.992, 3.003, 3.014, 3.025, 3.036, 3.047, 3.058,\n",
       "       3.069, 3.08 , 3.091, 3.102, 3.113, 3.124, 3.135, 3.146, 3.157,\n",
       "       3.168, 3.179, 3.19 , 3.201, 3.212, 3.223, 3.234, 3.245, 3.256,\n",
       "       3.267, 3.278, 3.289, 3.3  , 3.311, 3.322, 3.333, 3.344, 3.355,\n",
       "       3.366, 3.377, 3.388, 3.399, 3.41 , 3.421, 3.432, 3.443, 3.454,\n",
       "       3.465, 3.476, 3.487, 3.498, 3.509, 3.52 , 3.531, 3.542, 3.553,\n",
       "       3.564, 3.575, 3.586, 3.597, 3.608, 3.619, 3.63 , 3.641, 3.652,\n",
       "       3.663, 3.674, 3.685, 3.696, 3.707, 3.718, 3.729, 3.74 , 3.751,\n",
       "       3.762, 3.773, 3.784, 3.795, 3.806, 3.817, 3.828, 3.839, 3.85 ,\n",
       "       3.861, 3.872, 3.883, 3.894, 3.905, 3.916, 3.927, 3.938, 3.949,\n",
       "       3.96 , 3.971, 3.982, 3.993, 4.004, 4.015, 4.026, 4.037, 4.048,\n",
       "       4.059, 4.07 , 4.081, 4.092, 4.103, 4.114, 4.125, 4.136, 4.147,\n",
       "       4.158, 4.169, 4.18 , 4.191, 4.202, 4.213, 4.224, 4.235, 4.246,\n",
       "       4.257, 4.268, 4.279, 4.29 , 4.301, 4.312, 4.323, 4.334, 4.345,\n",
       "       4.356, 4.367, 4.378, 4.389, 4.4  , 4.411, 4.422, 4.433, 4.444,\n",
       "       4.455, 4.466, 4.477, 4.488, 4.499, 4.51 , 4.521, 4.532, 4.543,\n",
       "       4.554, 4.565, 4.576, 4.587, 4.598, 4.609, 4.62 , 4.631, 4.642,\n",
       "       4.653, 4.664, 4.675, 4.686, 4.697, 4.708, 4.719, 4.73 , 4.741,\n",
       "       4.752, 4.763, 4.774, 4.785, 4.796, 4.807, 4.818, 4.829, 4.84 ,\n",
       "       4.851, 4.862, 4.873, 4.884, 4.895, 4.906, 4.917, 4.928, 4.939,\n",
       "       4.95 , 4.961, 4.972, 4.983, 4.994, 5.005, 5.016, 5.027, 5.038,\n",
       "       5.049, 5.06 , 5.071, 5.082, 5.093, 5.104, 5.115, 5.126, 5.137,\n",
       "       5.148, 5.159, 5.17 , 5.181, 5.192, 5.203, 5.214, 5.225, 5.236,\n",
       "       5.247, 5.258, 5.269, 5.28 , 5.291, 5.302, 5.313, 5.324, 5.335,\n",
       "       5.346, 5.357, 5.368, 5.379, 5.39 , 5.401, 5.412, 5.423, 5.434,\n",
       "       5.445, 5.456, 5.467, 5.478, 5.489, 5.5  , 5.511, 5.522, 5.533,\n",
       "       5.544, 5.555, 5.566, 5.577, 5.588, 5.599, 5.61 , 5.621, 5.632,\n",
       "       5.643, 5.654, 5.665, 5.676, 5.687, 5.698, 5.709, 5.72 , 5.731,\n",
       "       5.742, 5.753, 5.764, 5.775, 5.786, 5.797, 5.808, 5.819, 5.83 ,\n",
       "       5.841, 5.852, 5.863, 5.874, 5.885, 5.896, 5.907, 5.918, 5.929,\n",
       "       5.94 , 5.951, 5.962, 5.973, 5.984, 5.995, 6.006, 6.017, 6.028,\n",
       "       6.039, 6.05 , 6.061, 6.072, 6.083, 6.094, 6.105, 6.116, 6.127,\n",
       "       6.138, 6.149, 6.16 , 6.171, 6.182, 6.193, 6.204, 6.215, 6.226,\n",
       "       6.237, 6.248, 6.259, 6.27 , 6.281, 6.292, 6.303, 6.314, 6.325,\n",
       "       6.336, 6.347, 6.358, 6.369, 6.38 , 6.391, 6.402, 6.413, 6.424,\n",
       "       6.435, 6.446, 6.457, 6.468, 6.479, 6.49 , 6.501, 6.512, 6.523,\n",
       "       6.534, 6.545, 6.556, 6.567, 6.578, 6.589, 6.6  , 6.611, 6.622,\n",
       "       6.633, 6.644, 6.655, 6.666, 6.677, 6.688, 6.699, 6.71 , 6.721,\n",
       "       6.732, 6.743, 6.754, 6.765, 6.776, 6.787, 6.798, 6.809, 6.82 ,\n",
       "       6.831, 6.842, 6.853, 6.864, 6.875, 6.886, 6.897, 6.908, 6.919,\n",
       "       6.93 , 6.941, 6.952, 6.963, 6.974, 6.985, 6.996, 7.007, 7.018,\n",
       "       7.029, 7.04 , 7.051, 7.062, 7.073, 7.084, 7.095, 7.106, 7.117,\n",
       "       7.128, 7.139, 7.15 , 7.161, 7.172, 7.183, 7.194, 7.205, 7.216,\n",
       "       7.227, 7.238, 7.249, 7.26 , 7.271, 7.282, 7.293, 7.304, 7.315,\n",
       "       7.326, 7.337, 7.348, 7.359, 7.37 , 7.381, 7.392, 7.403, 7.414,\n",
       "       7.425, 7.436, 7.447, 7.458, 7.469, 7.48 , 7.491, 7.502, 7.513,\n",
       "       7.524, 7.535, 7.546, 7.557, 7.568, 7.579, 7.59 , 7.601, 7.612,\n",
       "       7.623, 7.634, 7.645, 7.656, 7.667, 7.678, 7.689, 7.7  , 7.711,\n",
       "       7.722, 7.733, 7.744, 7.755, 7.766, 7.777, 7.788, 7.799, 7.81 ,\n",
       "       7.821, 7.832, 7.843, 7.854, 7.865, 7.876, 7.887, 7.898, 7.909,\n",
       "       7.92 , 7.931, 7.942, 7.953, 7.964, 7.975, 7.986, 7.997, 8.008,\n",
       "       8.019, 8.03 , 8.041, 8.052, 8.063, 8.074, 8.085, 8.096, 8.107,\n",
       "       8.118, 8.129, 8.14 , 8.151, 8.162, 8.173, 8.184, 8.195, 8.206,\n",
       "       8.217, 8.228, 8.239, 8.25 , 8.261, 8.272, 8.283, 8.294, 8.305,\n",
       "       8.316, 8.327, 8.338, 8.349, 8.36 , 8.371, 8.382, 8.393, 8.404,\n",
       "       8.415, 8.426, 8.437, 8.448, 8.459, 8.47 , 8.481, 8.492, 8.503,\n",
       "       8.514, 8.525, 8.536, 8.547, 8.558, 8.569, 8.58 , 8.591, 8.602,\n",
       "       8.613, 8.624, 8.635, 8.646, 8.657, 8.668, 8.679, 8.69 , 8.701,\n",
       "       8.712, 8.723, 8.734, 8.745, 8.756, 8.767, 8.778, 8.789, 8.8  ,\n",
       "       8.811, 8.822, 8.833, 8.844, 8.855, 8.866, 8.877, 8.888, 8.899,\n",
       "       8.91 , 8.921, 8.932, 8.943, 8.954, 8.965, 8.976, 8.987, 8.998,\n",
       "       9.009, 9.02 , 9.031, 9.042, 9.053, 9.064, 9.075, 9.086, 9.097,\n",
       "       9.108, 9.119, 9.13 , 9.141, 9.152, 9.163, 9.174, 9.185, 9.196,\n",
       "       9.207, 9.218, 9.229, 9.24 , 9.251, 9.262, 9.273, 9.284, 9.295,\n",
       "       9.306, 9.317, 9.328, 9.339, 9.35 , 9.361, 9.372, 9.383, 9.394,\n",
       "       9.405, 9.416, 9.427, 9.438, 9.449, 9.46 , 9.471, 9.482, 9.493,\n",
       "       9.504, 9.515, 9.526, 9.537, 9.548, 9.559, 9.57 , 9.581, 9.592,\n",
       "       9.603, 9.614, 9.625, 9.636, 9.647, 9.658, 9.669, 9.68 , 9.691,\n",
       "       9.702, 9.713, 9.724, 9.735, 9.746, 9.757, 9.768, 9.779, 9.79 ,\n",
       "       9.801, 9.812, 9.823, 9.834, 9.845, 9.856, 9.867, 9.878, 9.889,\n",
       "       9.9  , 9.911, 9.922, 9.933, 9.944, 9.955, 9.966, 9.977, 9.988,\n",
       "       9.999])"
      ]
     },
     "execution_count": 35,
     "metadata": {},
     "output_type": "execute_result"
    }
   ],
   "source": [
    "np.arange(0,10,0.011)"
   ]
  },
  {
   "cell_type": "code",
   "execution_count": 41,
   "metadata": {},
   "outputs": [
    {
     "data": {
      "text/plain": [
       "[2, 3, 4]"
      ]
     },
     "execution_count": 41,
     "metadata": {},
     "output_type": "execute_result"
    }
   ],
   "source": [
    "X = {'llave':lambda x:x**2,'lista':[2,3,4],\n",
    "     'dicc':{'conjunto':set([1,213,23])}}\n",
    "X['lista']"
   ]
  },
  {
   "cell_type": "code",
   "execution_count": 44,
   "metadata": {},
   "outputs": [
    {
     "data": {
      "text/plain": [
       "{1, 23, 213}"
      ]
     },
     "execution_count": 44,
     "metadata": {},
     "output_type": "execute_result"
    }
   ],
   "source": [
    "X['dicc']['conjunto']"
   ]
  },
  {
   "cell_type": "code",
   "execution_count": 49,
   "metadata": {},
   "outputs": [],
   "source": [
    "A = {2,4,6,7,7,73,3,33,3,3,3}\n",
    "B = {3,2,65,3}"
   ]
  },
  {
   "cell_type": "code",
   "execution_count": 51,
   "metadata": {},
   "outputs": [
    {
     "data": {
      "text/plain": [
       "{2, 3}"
      ]
     },
     "execution_count": 51,
     "metadata": {},
     "output_type": "execute_result"
    }
   ],
   "source": [
    "A.intersection(B)"
   ]
  },
  {
   "cell_type": "code",
   "execution_count": 80,
   "metadata": {},
   "outputs": [],
   "source": [
    "X = []"
   ]
  },
  {
   "cell_type": "code",
   "execution_count": 81,
   "metadata": {},
   "outputs": [
    {
     "data": {
      "text/plain": [
       "0"
      ]
     },
     "execution_count": 81,
     "metadata": {},
     "output_type": "execute_result"
    }
   ],
   "source": [
    "len(X)"
   ]
  },
  {
   "cell_type": "code",
   "execution_count": 120,
   "metadata": {},
   "outputs": [],
   "source": [
    "class Salon:\n",
    "    def __init__(self,Alumnos,Asientos):\n",
    "        self.Alumnos = Alumnos\n",
    "        self.Asientos = Asientos\n",
    "        self.EspaciosVacios = self.Asientos - self.Alumnos\n",
    "    def actualizar(self,Alumnos,Asientos):\n",
    "        self.Alumnos = Alumnos\n",
    "        self.Asientos = Asientos\n",
    "        self.EspaciosVacios = self.Asientos - self.Alumnos"
   ]
  },
  {
   "cell_type": "code",
   "execution_count": 121,
   "metadata": {},
   "outputs": [],
   "source": [
    "X = Salon(30,40)"
   ]
  },
  {
   "cell_type": "code",
   "execution_count": 122,
   "metadata": {},
   "outputs": [
    {
     "data": {
      "text/plain": [
       "30"
      ]
     },
     "execution_count": 122,
     "metadata": {},
     "output_type": "execute_result"
    }
   ],
   "source": [
    "X.Alumnos"
   ]
  },
  {
   "cell_type": "code",
   "execution_count": 123,
   "metadata": {},
   "outputs": [
    {
     "data": {
      "text/plain": [
       "40"
      ]
     },
     "execution_count": 123,
     "metadata": {},
     "output_type": "execute_result"
    }
   ],
   "source": [
    "X.Asientos"
   ]
  },
  {
   "cell_type": "code",
   "execution_count": 124,
   "metadata": {},
   "outputs": [],
   "source": [
    "X.actualizar(12,50)"
   ]
  },
  {
   "cell_type": "code",
   "execution_count": 125,
   "metadata": {},
   "outputs": [
    {
     "data": {
      "text/plain": [
       "38"
      ]
     },
     "execution_count": 125,
     "metadata": {},
     "output_type": "execute_result"
    }
   ],
   "source": [
    "X.EspaciosVacios"
   ]
  },
  {
   "cell_type": "code",
   "execution_count": 165,
   "metadata": {},
   "outputs": [],
   "source": [
    "from __future__ import division\n",
    "class EstadisticaIII:\n",
    "    def __init__(self,X,Y=[]):\n",
    "        self.X = X\n",
    "        self.Y = Y\n",
    "        self.n = len(X)\n",
    "    def Fn(self,y):\n",
    "        return len([x for x in self.X if x<=y])/self.n\n",
    "    def KS(self,F):\n",
    "        Xi = sorted(self.X)\n",
    "        Dn = []\n",
    "        for i in range(self.n):\n",
    "            Dn.append(max((i+1)/self.n-F(Xi[i]),F(Xi[i])-i/self.n))\n",
    "        D = max(Dn)\n",
    "        K = np.argmax(Dn)\n",
    "        Femp = [self.Fn(x) for x in np.arange(min(self.X),max(self.X)+0.02,0.01)]\n",
    "        F0 = [F(x) for x in np.arange(min(self.X),max(self.X)+0.02,0.01)]\n",
    "        plt.plot(np.arange(min(self.X),max(self.X)+0.02,0.01),Femp)\n",
    "        plt.plot(np.arange(min(self.X),max(self.X)+0.02,0.01),F0)\n",
    "        plt.plot(Xi[K],F(Xi[K]),'g^')\n",
    "        return D"
   ]
  },
  {
   "cell_type": "code",
   "execution_count": 166,
   "metadata": {},
   "outputs": [],
   "source": [
    "E = EstadisticaIII([2,34,5,3,1,3,4,34,23],[34,234,2,23])"
   ]
  },
  {
   "cell_type": "code",
   "execution_count": 172,
   "metadata": {},
   "outputs": [
    {
     "data": {
      "text/plain": [
       "0.7535536056522762"
      ]
     },
     "execution_count": 172,
     "metadata": {},
     "output_type": "execute_result"
    },
    {
     "data": {
      "image/png": "[encoded data removed]",
      "text/plain": [
       "<Figure size 432x288 with 1 Axes>"
      ]
     },
     "metadata": {},
     "output_type": "display_data"
    }
   ],
   "source": [
    "E.KS(F)"
   ]
  },
  {
   "cell_type": "code",
   "execution_count": 174,
   "metadata": {},
   "outputs": [
    {
     "data": {
      "text/plain": [
       "0.5555555555555556"
      ]
     },
     "execution_count": 174,
     "metadata": {},
     "output_type": "execute_result"
    }
   ],
   "source": [
    "E.Fn(4)"
   ]
  },
  {
   "cell_type": "code",
   "execution_count": 171,
   "metadata": {},
   "outputs": [],
   "source": [
    "import math as m\n",
    "import matplotlib.pylab as plt\n",
    "F = lambda x: 1-m.exp(-x)\n",
    "E."
   ]
  },
  {
   "cell_type": "code",
   "execution_count": 182,
   "metadata": {},
   "outputs": [],
   "source": [
    "from Clase import EstadisticaIII"
   ]
  }
 ],
 "metadata": {
  "kernelspec": {
   "display_name": "Python 2",
   "language": "python",
   "name": "python2"
  },
  "language_info": {
   "codemirror_mode": {
    "name": "ipython",
    "version": 2
   },
   "file_extension": ".py",
   "mimetype": "text/x-python",
   "name": "python",
   "nbconvert_exporter": "python",
   "pygments_lexer": "ipython2",
   "version": "2.7.15rc1"
  }
 },
 "nbformat": 4,
 "nbformat_minor": 2
}
