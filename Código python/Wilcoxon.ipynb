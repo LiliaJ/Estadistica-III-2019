{
 "cells": [
  {
   "cell_type": "code",
   "execution_count": 48,
   "metadata": {},
   "outputs": [],
   "source": [
    "import numpy as np\n",
    "import math as ma\n",
    "from __future__ import division\n",
    "%matplotlib inline"
   ]
  },
  {
   "cell_type": "code",
   "execution_count": 383,
   "metadata": {},
   "outputs": [],
   "source": [
    "X = [1.2,3.8,6.1,3.5,7.2,0.1,5.4]\n",
    "Y = [3.4,7.1,8.2,0.4,6.1]"
   ]
  },
  {
   "cell_type": "code",
   "execution_count": 384,
   "metadata": {},
   "outputs": [
    {
     "name": "stdout",
     "output_type": "stream",
     "text": [
      "n= 7, m= 5 \n"
     ]
    }
   ],
   "source": [
    "n = int(len(X))\n",
    "m = int(len(Y))\n",
    "print(\"n= {}, m= {} \".format(n,m))"
   ]
  },
  {
   "cell_type": "code",
   "execution_count": 385,
   "metadata": {},
   "outputs": [],
   "source": [
    "X = [(x,\"X\") for x in X]\n",
    "Y = [(y,\"Y\") for y in Y]"
   ]
  },
  {
   "cell_type": "code",
   "execution_count": 388,
   "metadata": {},
   "outputs": [],
   "source": [
    "Z = sorted(X+Y)"
   ]
  },
  {
   "cell_type": "code",
   "execution_count": 392,
   "metadata": {},
   "outputs": [],
   "source": [
    "S = [(i+1)*(Z[i][1]==\"Y\") for i in range(len(Z))]"
   ]
  },
  {
   "cell_type": "code",
   "execution_count": 393,
   "metadata": {},
   "outputs": [],
   "source": [
    "R = sum(S)"
   ]
  },
  {
   "cell_type": "code",
   "execution_count": 394,
   "metadata": {},
   "outputs": [
    {
     "data": {
      "text/plain": [
       "37"
      ]
     },
     "execution_count": 394,
     "metadata": {},
     "output_type": "execute_result"
    }
   ],
   "source": [
    "R"
   ]
  },
  {
   "cell_type": "code",
   "execution_count": 395,
   "metadata": {},
   "outputs": [],
   "source": [
    "E_R = (n*(m+n+1))/2\n",
    "V_R = (n*m*(n+m+1))/12\n",
    "R_ = (R-E_R)/ma.sqrt(V_R)"
   ]
  },
  {
   "cell_type": "code",
   "execution_count": 398,
   "metadata": {},
   "outputs": [
    {
     "data": {
      "text/plain": [
       "-1.3803965029999552"
      ]
     },
     "execution_count": 398,
     "metadata": {},
     "output_type": "execute_result"
    }
   ],
   "source": [
    "R_"
   ]
  },
  {
   "cell_type": "code",
   "execution_count": 359,
   "metadata": {},
   "outputs": [],
   "source": [
    "sup = np.percentile(np.random.standard_normal(100000),95)\n",
    "inf = -sup"
   ]
  },
  {
   "cell_type": "code",
   "execution_count": 360,
   "metadata": {},
   "outputs": [
    {
     "name": "stdout",
     "output_type": "stream",
     "text": [
      "(-1.65062487049,1.65062487049)\n"
     ]
    }
   ],
   "source": [
    "print(\"({},{})\".format(inf,sup))"
   ]
  },
  {
   "cell_type": "code",
   "execution_count": 399,
   "metadata": {},
   "outputs": [],
   "source": [
    "def Wilcoxon(X,Y,a):\n",
    "    n = int(len(X))\n",
    "    m = int(len(Y))\n",
    "    print(\"n= {}, m= {} \".format(n,m))\n",
    "    X = [(x,\"X\") for x in X]\n",
    "    Y = [(y,\"Y\") for y in Y]\n",
    "    S = [(i+1)*(Z[i][1]==\"Y\") for i in range(len(Z))]\n",
    "    W = sum(S)\n",
    "    E_W = (n*(m+n+1))/2\n",
    "    V_W = (n*m*(n+m+1))/12\n",
    "    W_ = (W-E_W)/ma.sqrt(V_W)\n",
    "    sup = -np.percentile(np.random.standard_normal(100000),a*100/2)\n",
    "    inf = np.percentile(np.random.standard_normal(100000),a*100/2)\n",
    "    if inf <= W_ and W_ <= sup:\n",
    "        print \"No rechazar\\nW={} esta en el intervalo ({},{})\".format(W_,inf,sup)\n",
    "    else:\n",
    "        print \"Rechazar\\nW={} no esta en el intervalo ({},{})\".format(W_,inf,sup)"
   ]
  },
  {
   "cell_type": "code",
   "execution_count": 380,
   "metadata": {},
   "outputs": [
    {
     "data": {
      "text/plain": [
       "-1.9565290099364208"
      ]
     },
     "execution_count": 380,
     "metadata": {},
     "output_type": "execute_result"
    }
   ],
   "source": [
    "np.percentile(np.random.standard_normal(100000),2.5)"
   ]
  },
  {
   "cell_type": "code",
   "execution_count": 400,
   "metadata": {},
   "outputs": [
    {
     "name": "stdout",
     "output_type": "stream",
     "text": [
      "n= 7, m= 5 \n",
      "No rechazar\n",
      "W=-1.380396503 esta en el intervalo (-1.63904501055,1.63875544411)\n"
     ]
    }
   ],
   "source": [
    "Wilcoxon(X,Y,0.1)"
   ]
  },
  {
   "cell_type": "code",
   "execution_count": 401,
   "metadata": {},
   "outputs": [
    {
     "name": "stdout",
     "output_type": "stream",
     "text": [
      "n= 7, m= 5 \n",
      "No rechazar\n",
      "W=-1.380396503 esta en el intervalo (-1.95812191058,1.95414078312)\n"
     ]
    }
   ],
   "source": [
    "Wilcoxon([1.2,3.8,6.1,3.5,7.2,0.1,5.4],[3.4,7.1,8.2,0.4,6.1],0.05)"
   ]
  }
 ],
 "metadata": {
  "kernelspec": {
   "display_name": "Python 2",
   "language": "python",
   "name": "python2"
  },
  "language_info": {
   "codemirror_mode": {
    "name": "ipython",
    "version": 2
   },
   "file_extension": ".py",
   "mimetype": "text/x-python",
   "name": "python",
   "nbconvert_exporter": "python",
   "pygments_lexer": "ipython2",
   "version": "2.7.15rc1"
  }
 },
 "nbformat": 4,
 "nbformat_minor": 2
}
