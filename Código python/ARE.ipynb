{
 "cells": [
  {
   "cell_type": "code",
   "execution_count": null,
   "metadata": {
    "collapsed": true
   },
   "outputs": [],
   "source": [
    "import numpy as np\n",
    "import math as m\n",
    "import matplotlib.pyplot as plt\n",
    "import scipy.integrate as integrate\n",
    "%matplotlib inline"
   ]
  },
  {
   "cell_type": "code",
   "execution_count": null,
   "metadata": {
    "collapsed": true
   },
   "outputs": [],
   "source": [
    "def Densidad(x,mu,b):\n",
    "    if x>0:\n",
    "        return (1/(m.gamma(mu/b)*(b**(mu/b))))*(x**((mu/b)-1))*m.exp(-x/b)\n",
    "    else:\n",
    "        return 0"
   ]
  },
  {
   "cell_type": "code",
   "execution_count": null,
   "metadata": {
    "collapsed": true
   },
   "outputs": [],
   "source": [
    "def sim(f,n=10000):\n",
    "    R = []\n",
    "    Y = [integrate.quad(f,-np.inf,x)[0] for x in np.arange(-10,20,0.1)]\n",
    "    for i in range(n):\n",
    "        u = np.random.uniform()\n",
    "        j = 0\n",
    "        for j in range(len(np.arange(-10,20,0.1))):\n",
    "            if Y[j]<u:\n",
    "                next\n",
    "            else:\n",
    "                R.append(np.arange(-10,20,0.1)[j])\n",
    "                break\n",
    "    return R"
   ]
  }
 ],
 "metadata": {
  "kernelspec": {
   "display_name": "Python 3",
   "language": "python",
   "name": "python3"
  },
  "language_info": {
   "codemirror_mode": {
    "name": "ipython",
    "version": 3
   },
   "file_extension": ".py",
   "mimetype": "text/x-python",
   "name": "python",
   "nbconvert_exporter": "python",
   "pygments_lexer": "ipython3",
   "version": "3.6.3"
  }
 },
 "nbformat": 4,
 "nbformat_minor": 2
}
