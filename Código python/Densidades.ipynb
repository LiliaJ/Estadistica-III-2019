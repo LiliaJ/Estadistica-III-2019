{
 "cells": [
  {
   "cell_type": "code",
   "execution_count": 1,
   "metadata": {},
   "outputs": [],
   "source": [
    "from __future__ import division\n",
    "import math as m\n",
    "import matplotlib.pyplot as plt\n",
    "import numpy as np\n",
    "import pandas as pd\n",
    "import scipy.stats as sts\n",
    "from ipywidgets import *\n",
    "%matplotlib inline"
   ]
  },
  {
   "cell_type": "code",
   "execution_count": 5,
   "metadata": {},
   "outputs": [],
   "source": [
    "X = [np.random.choice([np.random.normal(0,1)]+\n",
    "                       [np.random.normal((j/2)-1,1/10) for j in range(5)],\n",
    "                      p=[1/2]+[1/10 for w in range(5)]) for y in range(300)]\n",
    "n = len(X)"
   ]
  },
  {
   "cell_type": "code",
   "execution_count": 6,
   "metadata": {},
   "outputs": [],
   "source": [
    "K = {'Cuadratica':lambda x:(3/4)*(1-x**2)*(abs(x)<=1),\n",
    "    'Lineal':lambda x:(1/2)*(abs(x)<=1),\n",
    "    'Normal' :lambda x:sts.norm.pdf(x,0,1)}\n",
    "K_ = {'Cuadratica':lambda x:(3/4)*(1-x**2)*(abs(x)<=1),\n",
    "    'Lineal':lambda x:(1/2)*(abs(x)<=1),\n",
    "    'Normal' :lambda x:sts.norm.pdf(x,0,2)-2*sts.norm.pdf(x,0,1)}"
   ]
  },
  {
   "cell_type": "code",
   "execution_count": null,
   "metadata": {},
   "outputs": [],
   "source": [
    "J = lambda h,n: 1/(h*(n**2))*sum(K_['Normal']((X[i]-X[j])/h) for i in range(n) for j in range(n))+(2/(h*n))*K['Normal'](0)\n",
    "J_ = [J(h,n) for h in np.arange(0.01,1.1,0.01)]"
   ]
  },
  {
   "cell_type": "code",
   "execution_count": null,
   "metadata": {},
   "outputs": [],
   "source": [
    "J_optimo = np.argmin(J_)\n",
    "h_optimo = np.arange(0.01,1.1,0.01)[J_optimo]"
   ]
  },
  {
   "cell_type": "code",
   "execution_count": null,
   "metadata": {},
   "outputs": [],
   "source": [
    "def fn(x,h,X,Ktipo):\n",
    "    n = len(X)\n",
    "    f = (1/n)*(1/h)*sum(K[Ktipo]((x-X[i])/h) for i in range(n))\n",
    "    return f"
   ]
  },
  {
   "cell_type": "code",
   "execution_count": null,
   "metadata": {},
   "outputs": [],
   "source": [
    "print('Ancho de banda optimo = {}'.format(h_optimo))\n",
    "@interact(h=widgets.FloatSlider(\n",
    "    value=h_optimo,\n",
    "    min=0.01,\n",
    "    max=1,\n",
    "    step=0.01),\n",
    "         K=widgets.Dropdown(\n",
    "             options=K.keys()))\n",
    "def plotin(h=1,K='Normal'):\n",
    "    xl = np.arange(min(X),max(X)+0.01,0.01)\n",
    "    fig, (ax1, ax2) = plt.subplots(1, 2,figsize=(15, 7))\n",
    "    ax1.plot(xl,[fn(x,h,X,K) for x in xl],color='red')\n",
    "    ax1.hist(X,density=True,alpha=0.4,color='green')\n",
    "    ax2.plot(np.arange(0.01,1.1,0.01),J_)\n",
    "    ax1.set_xlabel('$X_i$')\n",
    "    ax2.set_xlabel('$h$')\n",
    "    ax2.set_ylabel('$\\hat{J}$')\n",
    "    ax2.set_title('Validación cruzada')"
   ]
  },
  {
   "cell_type": "code",
   "execution_count": null,
   "metadata": {},
   "outputs": [],
   "source": [
    "x<-c(49,-67,8,16,6,23,28,41,14,29,56,24,75,60,-48)\n",
    "tabla_X_barra_boot=function(N){\n",
    "    vector_muestra=c()\n",
    "    vector_boot=c()\n",
    "    for(i in 1:N){\n",
    "            darwin1=sample(x,size=15,TRUE)\n",
    "            media[i]= mean(darwin1)\n",
    "            mediana[i] = median(darwin1)}\n",
    "    out=list(replicas=darwin1,media=media,mediana=mediana)\n",
    "  return(out)}"
   ]
  }
 ],
 "metadata": {
  "kernelspec": {
   "display_name": "Python 3",
   "language": "python",
   "name": "python3"
  },
  "language_info": {
   "codemirror_mode": {
    "name": "ipython",
    "version": 3
   },
   "file_extension": ".py",
   "mimetype": "text/x-python",
   "name": "python",
   "nbconvert_exporter": "python",
   "pygments_lexer": "ipython3",
   "version": "3.7.3"
  }
 },
 "nbformat": 4,
 "nbformat_minor": 2
}
