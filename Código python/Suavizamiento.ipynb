{
 "cells": [
  {
   "cell_type": "code",
   "execution_count": 54,
   "metadata": {},
   "outputs": [],
   "source": [
    "from __future__ import division\n",
    "import pandas as pd\n",
    "import matplotlib.pyplot as plt\n",
    "import numpy as np\n",
    "import math as ma\n",
    "from numpy.linalg import inv\n",
    "from ipywidgets import *\n",
    "%matplotlib inline"
   ]
  },
  {
   "cell_type": "markdown",
   "metadata": {},
   "source": [
    "# 0. Los datos"
   ]
  },
  {
   "cell_type": "code",
   "execution_count": 3,
   "metadata": {},
   "outputs": [
    {
     "data": {
      "text/html": [
       "<div>\n",
       "<style scoped>\n",
       "    .dataframe tbody tr th:only-of-type {\n",
       "        vertical-align: middle;\n",
       "    }\n",
       "\n",
       "    .dataframe tbody tr th {\n",
       "        vertical-align: top;\n",
       "    }\n",
       "\n",
       "    .dataframe thead th {\n",
       "        text-align: right;\n",
       "    }\n",
       "</style>\n",
       "<table border=\"1\" class=\"dataframe\">\n",
       "  <thead>\n",
       "    <tr style=\"text-align: right;\">\n",
       "      <th></th>\n",
       "      <th>ell</th>\n",
       "      <th>Cl</th>\n",
       "      <th>se</th>\n",
       "      <th>measerr</th>\n",
       "      <th>cosmic</th>\n",
       "    </tr>\n",
       "  </thead>\n",
       "  <tbody>\n",
       "    <tr>\n",
       "      <th>0</th>\n",
       "      <td>2</td>\n",
       "      <td>123.382</td>\n",
       "      <td>762.6369</td>\n",
       "      <td>3.3813</td>\n",
       "      <td>759.2556</td>\n",
       "    </tr>\n",
       "    <tr>\n",
       "      <th>1</th>\n",
       "      <td>3</td>\n",
       "      <td>611.775</td>\n",
       "      <td>608.1737</td>\n",
       "      <td>4.0262</td>\n",
       "      <td>604.1475</td>\n",
       "    </tr>\n",
       "    <tr>\n",
       "      <th>2</th>\n",
       "      <td>4</td>\n",
       "      <td>756.616</td>\n",
       "      <td>503.9580</td>\n",
       "      <td>4.3394</td>\n",
       "      <td>499.6186</td>\n",
       "    </tr>\n",
       "    <tr>\n",
       "      <th>3</th>\n",
       "      <td>5</td>\n",
       "      <td>1256.700</td>\n",
       "      <td>432.1765</td>\n",
       "      <td>4.5485</td>\n",
       "      <td>427.6281</td>\n",
       "    </tr>\n",
       "    <tr>\n",
       "      <th>4</th>\n",
       "      <td>6</td>\n",
       "      <td>696.479</td>\n",
       "      <td>380.1810</td>\n",
       "      <td>4.7410</td>\n",
       "      <td>375.4400</td>\n",
       "    </tr>\n",
       "  </tbody>\n",
       "</table>\n",
       "</div>"
      ],
      "text/plain": [
       "   ell        Cl        se  measerr    cosmic\n",
       "0    2   123.382  762.6369   3.3813  759.2556\n",
       "1    3   611.775  608.1737   4.0262  604.1475\n",
       "2    4   756.616  503.9580   4.3394  499.6186\n",
       "3    5  1256.700  432.1765   4.5485  427.6281\n",
       "4    6   696.479  380.1810   4.7410  375.4400"
      ]
     },
     "execution_count": 3,
     "metadata": {},
     "output_type": "execute_result"
    }
   ],
   "source": [
    "columns = ['ell', 'Cl', 'se', 'measerr', 'cosmic']\n",
    "df = pd.read_csv(\"wmap.dat.txt\", sep=\"\\s+\", usecols=columns)\n",
    "df.head()"
   ]
  },
  {
   "cell_type": "code",
   "execution_count": 4,
   "metadata": {},
   "outputs": [
    {
     "data": {
      "text/plain": [
       "<matplotlib.collections.PathCollection at 0x2519b52a4a8>"
      ]
     },
     "execution_count": 4,
     "metadata": {},
     "output_type": "execute_result"
    },
    {
     "data": {
      "image/png": "[encoded data removed]",
      "text/plain": [
       "<Figure size 864x432 with 1 Axes>"
      ]
     },
     "metadata": {
      "needs_background": "light"
     },
     "output_type": "display_data"
    }
   ],
   "source": [
    "x = X = list(df['ell'])\n",
    "y = Y = list(df['Cl'])\n",
    "n = len(X)\n",
    "plt.figure(figsize=(12,6))\n",
    "plt.scatter(X,Y,s=5)"
   ]
  },
  {
   "cell_type": "markdown",
   "metadata": {},
   "source": [
    "# 1. Escoger un método de de suavizamiento"
   ]
  },
  {
   "cell_type": "markdown",
   "metadata": {},
   "source": [
    "### 1.1 Regresión con Kernel"
   ]
  },
  {
   "cell_type": "code",
   "execution_count": null,
   "metadata": {},
   "outputs": [],
   "source": [
    "@interact(h=widgets.FloatSlider(\n",
    "    value=10,\n",
    "    min=0.1,\n",
    "    max=20,\n",
    "    step=1))\n",
    "def ploting(h):\n",
    "    K = lambda x: 1/(ma.sqrt(2*ma.pi))*ma.exp(-(x**2)/2)\n",
    "    def rn(x,h):\n",
    "        n = len(X)\n",
    "        l = [K((x-X[i])/h) for i in range(n)]\n",
    "        return sum(l[i]*Y[i] for i in range(n))/sum(l)\n",
    "    plt.figure(figsize=(12,6))\n",
    "    plt.scatter(X,Y,s=5)\n",
    "    plt.plot(np.arange(0.1,900,5),[rn(x,h) for x in np.arange(0.1,900,5)],color='red')"
   ]
  },
  {
   "cell_type": "markdown",
   "metadata": {},
   "source": [
    "### 1.2 Splines"
   ]
  },
  {
   "cell_type": "code",
   "execution_count": 50,
   "metadata": {},
   "outputs": [],
   "source": [
    "def Spline1(l):\n",
    "    n = len(x)\n",
    "    K = len(Nots)\n",
    "    X = np.matrix([[1] + [x[i]] + [max(x[i]-t,0) for t in Nots] for i in range(n)])\n",
    "    D = np.matrix([[0 for i in range(K+2)],[0 for i in range(K+2)]]+[[(j==i-2)*1 for i in range(K+2)] for j in range(K)])\n",
    "    b = y*(inv(X.T*X+(l**2)*D)*X.T).T\n",
    "    b = list(b.getA1())\n",
    "    f = lambda x:b[0]+b[1]*x + sum(b[j+2]*max((x-Nots[j]),0) for j in range(K))\n",
    "    plt.figure(figsize=(12,6))\n",
    "    plt.scatter(x,y,s=5)\n",
    "    plt.plot(np.arange(0,n,1),[f(x) for x in np.arange(0,n,1)],color=\"red\")"
   ]
  },
  {
   "cell_type": "code",
   "execution_count": 51,
   "metadata": {},
   "outputs": [
    {
     "data": {
      "application/vnd.jupyter.widget-view+json": {
       "model_id": "64d04d5d521546a784f51771fa230e58",
       "version_major": 2,
       "version_minor": 0
      },
      "text/plain": [
       "interactive(children=(FloatSlider(value=100.05, description='l', max=200.0, min=0.1), Output()), _dom_classes=…"
      ]
     },
     "metadata": {},
     "output_type": "display_data"
    },
    {
     "data": {
      "text/plain": [
       "<function __main__.Spline1(l)>"
      ]
     },
     "execution_count": 51,
     "metadata": {},
     "output_type": "execute_result"
    }
   ],
   "source": [
    "#Nots = [int(x) for x in input().split()]\n",
    "Nots = [y for y in x if y%2 ==0]\n",
    "interact(Spline1,l=(0.1,200))"
   ]
  },
  {
   "cell_type": "code",
   "execution_count": 49,
   "metadata": {},
   "outputs": [
    {
     "data": {
      "text/plain": [
       "900"
      ]
     },
     "execution_count": 49,
     "metadata": {},
     "output_type": "execute_result"
    }
   ],
   "source": [
    "x[n-1]"
   ]
  },
  {
   "cell_type": "code",
   "execution_count": 66,
   "metadata": {},
   "outputs": [],
   "source": [
    "def SplineP(l):\n",
    "    n = len(x)\n",
    "    K = len(Nots)\n",
    "    X = np.matrix([[x[i]**p for p in range(p+1)]+[max((x[i]-t)**p,0) for t in Nots] for i in range(n)])\n",
    "    D = np.matrix([[0 for i in range(K+p+1)] for j in range(p+1)]+[[(j==i-p-1)*1 for i in range(K+p+1)] for j in range(K)])\n",
    "    b = y*(inv(X.T*X+(l**(2*p))*D)*X.T).T\n",
    "    b = list(b.getA1())\n",
    "    f = lambda u:sum(b[i]*(u**i) for i in range(p+1)) + sum(b[j+p+1]*max((u-Nots[j])**p,0) for j in range(K))\n",
    "    plt.figure(figsize=(12,6))\n",
    "    plt.scatter(x,y,s=5)\n",
    "    plt.plot(np.arange(0,n,1),[f(u) for u in np.arange(0,n,1)],color=\"red\")"
   ]
  },
  {
   "cell_type": "code",
   "execution_count": 73,
   "metadata": {},
   "outputs": [
    {
     "data": {
      "text/plain": [
       "64000000"
      ]
     },
     "execution_count": 73,
     "metadata": {},
     "output_type": "execute_result"
    }
   ],
   "source": [
    "max((500-Nots[0])**p,0)"
   ]
  },
  {
   "cell_type": "code",
   "execution_count": 67,
   "metadata": {},
   "outputs": [
    {
     "name": "stdout",
     "output_type": "stream",
     "text": [
      "p = 3\n",
      "100\n"
     ]
    },
    {
     "data": {
      "application/vnd.jupyter.widget-view+json": {
       "model_id": "920c1661477044eea0e1b23619f0ece3",
       "version_major": 2,
       "version_minor": 0
      },
      "text/plain": [
       "interactive(children=(FloatText(value=7.5, description='l:'), Output()), _dom_classes=('widget-interact',))"
      ]
     },
     "metadata": {},
     "output_type": "display_data"
    },
    {
     "data": {
      "text/plain": [
       "<function __main__.SplineP(l)>"
      ]
     },
     "execution_count": 67,
     "metadata": {},
     "output_type": "execute_result"
    }
   ],
   "source": [
    "p = int(input('p = '))\n",
    "Nots = [int(x) for x in input().split()]\n",
    "interact(SplineP,l=widgets.FloatText(value=7.5,description='l:', disabled=False))"
   ]
  },
  {
   "cell_type": "markdown",
   "metadata": {},
   "source": [
    "# 2. Escoger $h$ o $\\lambda$ usando validación cruzada"
   ]
  },
  {
   "cell_type": "markdown",
   "metadata": {},
   "source": [
    "# 3. Estimar $\\hat{\\sigma}^{2}(x)$"
   ]
  },
  {
   "cell_type": "markdown",
   "metadata": {},
   "source": [
    "# 4. Encontrar una banda de confianza $1-\\alpha$ \n",
    "## $$ \\hat{r}_n(x)\\pm c\\ \\hat{\\sigma}^{2}(x)||l(x)||$$"
   ]
  }
 ],
 "metadata": {
  "kernelspec": {
   "display_name": "Python 3",
   "language": "python",
   "name": "python3"
  },
  "language_info": {
   "codemirror_mode": {
    "name": "ipython",
    "version": 3
   },
   "file_extension": ".py",
   "mimetype": "text/x-python",
   "name": "python",
   "nbconvert_exporter": "python",
   "pygments_lexer": "ipython3",
   "version": "3.7.3"
  }
 },
 "nbformat": 4,
 "nbformat_minor": 2
}
