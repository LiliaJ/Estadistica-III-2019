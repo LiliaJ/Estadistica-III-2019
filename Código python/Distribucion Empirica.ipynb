{
 "cells": [
  {
   "cell_type": "code",
   "execution_count": 56,
   "metadata": {},
   "outputs": [],
   "source": [
    "import numpy as np\n",
    "import math as m\n",
    "from __future__ import division\n",
    "import matplotlib.pyplot as plt\n",
    "%matplotlib inline "
   ]
  },
  {
   "cell_type": "code",
   "execution_count": 3,
   "metadata": {},
   "outputs": [],
   "source": [
    "X = [2,4,6,8,3,1,34,7]"
   ]
  },
  {
   "cell_type": "code",
   "execution_count": 4,
   "metadata": {},
   "outputs": [
    {
     "data": {
      "text/plain": [
       "8"
      ]
     },
     "execution_count": 4,
     "metadata": {},
     "output_type": "execute_result"
    }
   ],
   "source": [
    "len(X)"
   ]
  },
  {
   "cell_type": "code",
   "execution_count": 6,
   "metadata": {},
   "outputs": [
    {
     "data": {
      "text/plain": [
       "[2, 4, 3, 1]"
      ]
     },
     "execution_count": 6,
     "metadata": {},
     "output_type": "execute_result"
    }
   ],
   "source": [
    "[x for x in X if x<=4]"
   ]
  },
  {
   "cell_type": "code",
   "execution_count": 9,
   "metadata": {},
   "outputs": [
    {
     "data": {
      "text/plain": [
       "0.5"
      ]
     },
     "execution_count": 9,
     "metadata": {},
     "output_type": "execute_result"
    }
   ],
   "source": [
    "len([x for x in X if x<=4])/len(X)"
   ]
  },
  {
   "cell_type": "code",
   "execution_count": 15,
   "metadata": {},
   "outputs": [],
   "source": [
    "Fn = lambda y,X:len([x for x in X if x<=y])/len(X)"
   ]
  },
  {
   "cell_type": "code",
   "execution_count": 17,
   "metadata": {},
   "outputs": [
    {
     "data": {
      "text/plain": [
       "0.5"
      ]
     },
     "execution_count": 17,
     "metadata": {},
     "output_type": "execute_result"
    }
   ],
   "source": [
    "Fn(2,[1,2,3,4])"
   ]
  },
  {
   "cell_type": "code",
   "execution_count": 74,
   "metadata": {},
   "outputs": [],
   "source": [
    "U  = np.random.uniform(size=10)"
   ]
  },
  {
   "cell_type": "code",
   "execution_count": 68,
   "metadata": {
    "scrolled": true
   },
   "outputs": [
    {
     "name": "stdout",
     "output_type": "stream",
     "text": [
      "CPU times: user 366 ms, sys: 225 µs, total: 366 ms\n",
      "Wall time: 402 ms\n"
     ]
    },
    {
     "data": {
      "text/plain": [
       "[0.0,\n",
       " 0.0093,\n",
       " 0.0184,\n",
       " 0.028,\n",
       " 0.0384,\n",
       " 0.048,\n",
       " 0.0576,\n",
       " 0.0661,\n",
       " 0.0771,\n",
       " 0.085,\n",
       " 0.0957,\n",
       " 0.1058,\n",
       " 0.1163,\n",
       " 0.1286,\n",
       " 0.1416,\n",
       " 0.1522,\n",
       " 0.1626,\n",
       " 0.1726,\n",
       " 0.1835,\n",
       " 0.1933,\n",
       " 0.2038,\n",
       " 0.2133,\n",
       " 0.2222,\n",
       " 0.2318,\n",
       " 0.2395,\n",
       " 0.2477,\n",
       " 0.2588,\n",
       " 0.2682,\n",
       " 0.2782,\n",
       " 0.2881,\n",
       " 0.2977,\n",
       " 0.3088,\n",
       " 0.3205,\n",
       " 0.3298,\n",
       " 0.3408,\n",
       " 0.3502,\n",
       " 0.361,\n",
       " 0.37,\n",
       " 0.3805,\n",
       " 0.3891,\n",
       " 0.3995,\n",
       " 0.4086,\n",
       " 0.4187,\n",
       " 0.4292,\n",
       " 0.4387,\n",
       " 0.45,\n",
       " 0.4603,\n",
       " 0.47,\n",
       " 0.4794,\n",
       " 0.488,\n",
       " 0.4969,\n",
       " 0.5073,\n",
       " 0.5185,\n",
       " 0.5317,\n",
       " 0.5421,\n",
       " 0.5503,\n",
       " 0.5599,\n",
       " 0.5696,\n",
       " 0.5793,\n",
       " 0.5874,\n",
       " 0.5971,\n",
       " 0.6071,\n",
       " 0.6166,\n",
       " 0.6264,\n",
       " 0.6366,\n",
       " 0.6471,\n",
       " 0.6574,\n",
       " 0.6697,\n",
       " 0.6797,\n",
       " 0.6889,\n",
       " 0.6987,\n",
       " 0.7088,\n",
       " 0.7186,\n",
       " 0.7309,\n",
       " 0.7396,\n",
       " 0.75,\n",
       " 0.7595,\n",
       " 0.7693,\n",
       " 0.7794,\n",
       " 0.7895,\n",
       " 0.7996,\n",
       " 0.8103,\n",
       " 0.8183,\n",
       " 0.8299,\n",
       " 0.8415,\n",
       " 0.8526,\n",
       " 0.8622,\n",
       " 0.8724,\n",
       " 0.8818,\n",
       " 0.8919,\n",
       " 0.9025,\n",
       " 0.9128,\n",
       " 0.9218,\n",
       " 0.9311,\n",
       " 0.9406,\n",
       " 0.9504,\n",
       " 0.9595,\n",
       " 0.9712,\n",
       " 0.981,\n",
       " 0.9901,\n",
       " 1.0]"
      ]
     },
     "execution_count": 68,
     "metadata": {},
     "output_type": "execute_result"
    }
   ],
   "source": [
    "%%time \n",
    "[Fn(x,U) for x in np.arange(0,1.01,0.01)]"
   ]
  },
  {
   "cell_type": "code",
   "execution_count": 81,
   "metadata": {},
   "outputs": [
    {
     "data": {
      "text/plain": [
       "[<matplotlib.lines.Line2D at 0x7fba894a6110>]"
      ]
     },
     "execution_count": 81,
     "metadata": {},
     "output_type": "execute_result"
    },
    {
     "data": {
      "image/png": "[encoded data removed]",
      "text/plain": [
       "<Figure size 432x288 with 1 Axes>"
      ]
     },
     "metadata": {},
     "output_type": "display_data"
    }
   ],
   "source": [
    "plt.plot(np.arange(3,235.02,0.01), [Fn(x,[42,5,235,11,23,3]) for x in np.arange(3,235.02,0.01)])"
   ]
  },
  {
   "cell_type": "code",
   "execution_count": 82,
   "metadata": {},
   "outputs": [],
   "source": [
    "def GraficaEmp(X):\n",
    "    F = [Fn(x,X) for x in np.arange(min(X),max(X)+0.02,0.01)]\n",
    "    return plt.plot(np.arange(min(X),max(X)+0.02,0.01),F)"
   ]
  },
  {
   "cell_type": "code",
   "execution_count": 83,
   "metadata": {},
   "outputs": [
    {
     "data": {
      "text/plain": [
       "[<matplotlib.lines.Line2D at 0x7fba8956f510>]"
      ]
     },
     "execution_count": 83,
     "metadata": {},
     "output_type": "execute_result"
    },
    {
     "data": {
      "image/png": "[encoded data removed]",
      "text/plain": [
       "<Figure size 432x288 with 1 Axes>"
      ]
     },
     "metadata": {},
     "output_type": "display_data"
    }
   ],
   "source": [
    "GraficaEmp([2,34,4,6,68,35])"
   ]
  },
  {
   "cell_type": "code",
   "execution_count": 94,
   "metadata": {},
   "outputs": [],
   "source": [
    "def bandadeconfianza(X,a):\n",
    "    y = np.arange(min(X),max(X)+0.02,0.01)\n",
    "    n = len(X)\n",
    "    En = m.sqrt(m.log(2/a)/(2*n))\n",
    "    L =[max(Fn(x,X)-En,0) for x in np.arange(min(X),max(X)+0.02,0.01)]\n",
    "    U =[min(Fn(x,X)+En,1) for x in np.arange(min(X),max(X)+0.02,0.01)]\n",
    "    F = [Fn(x,X) for x in y ]\n",
    "    return plt.plot(y,U,y,L,y,F)"
   ]
  },
  {
   "cell_type": "code",
   "execution_count": 102,
   "metadata": {},
   "outputs": [
    {
     "data": {
      "text/plain": [
       "[<matplotlib.lines.Line2D at 0x7fba88f3c110>,\n",
       " <matplotlib.lines.Line2D at 0x7fba88f3c1d0>,\n",
       " <matplotlib.lines.Line2D at 0x7fba88f3c9d0>]"
      ]
     },
     "execution_count": 102,
     "metadata": {},
     "output_type": "execute_result"
    },
    {
     "data": {
      "image/png": "[encoded data removed]",
      "text/plain": [
       "<Figure size 432x288 with 1 Axes>"
      ]
     },
     "metadata": {},
     "output_type": "display_data"
    }
   ],
   "source": [
    "bandadeconfianza([2,5,7,5,4,12,8,9,76,10,11,20,56,3,4,5,2,24,6,8,4,34,5,9\n",
    "                 ,8,11,13,44,55,20,22,5,8,45,6,3,70,4,1,34,2,2,3,5,6,34,6,45,7,45,43,46,77,3],0.01)"
   ]
  },
  {
   "cell_type": "code",
   "execution_count": null,
   "metadata": {},
   "outputs": [],
   "source": []
  }
 ],
 "metadata": {
  "kernelspec": {
   "display_name": "Python 2",
   "language": "python",
   "name": "python2"
  },
  "language_info": {
   "codemirror_mode": {
    "name": "ipython",
    "version": 2
   },
   "file_extension": ".py",
   "mimetype": "text/x-python",
   "name": "python",
   "nbconvert_exporter": "python",
   "pygments_lexer": "ipython2",
   "version": "2.7.15rc1"
  }
 },
 "nbformat": 4,
 "nbformat_minor": 2
}
