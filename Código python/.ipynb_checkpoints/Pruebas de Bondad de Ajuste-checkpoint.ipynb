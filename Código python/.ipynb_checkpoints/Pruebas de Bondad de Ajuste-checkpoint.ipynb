{
 "cells": [
  {
   "cell_type": "code",
   "execution_count": 233,
   "metadata": {},
   "outputs": [],
   "source": [
    "import numpy as np\n",
    "import math as ma\n",
    "import matplotlib.pyplot as plt\n",
    "import scipy.stats as sts\n",
    "import pandas as pd\n",
    "from IPython.display import display\n",
    "from __future__ import division\n",
    "%matplotlib inline"
   ]
  },
  {
   "cell_type": "code",
   "execution_count": 320,
   "metadata": {},
   "outputs": [],
   "source": [
    "def KS(X,F,name):\n",
    "    n = len(X)\n",
    "    Xi = sorted(X)\n",
    "    Dn = []\n",
    "    for i in range(n):\n",
    "        Dn.append(max((i+1)/n-F(Xi[i]),F(Xi[i])-i/n))\n",
    "    D = max(Dn)\n",
    "    K = np.argmax(Dn)\n",
    "    return D"
   ]
  },
  {
   "cell_type": "code",
   "execution_count": 337,
   "metadata": {},
   "outputs": [],
   "source": [
    "def BondadDAjuste(X,alpha):\n",
    "    n=len(X)\n",
    "    Fn = lambda y:len([x for x in X if x<=y])/n\n",
    "    m = np.mean(X)\n",
    "    v = np.var(X)\n",
    "    inf = min(X)\n",
    "    sup = max(X)\n",
    "    a = m*((m*(1-m))/v-1)\n",
    "    b = a*(1-m)/m\n",
    "    b_ = m**2/v\n",
    "    a_ = m/v\n",
    "    display(pd.DataFrame([m,v,inf,sup,a,b,a_,b_],index=['$\\mu$','$\\sigma^2$','$\\min$',\n",
    "                                                        '$\\max$','$\\\\alpha$','$\\\\beta$','$\\\\mu/\\\\sigma^{2}$',\n",
    "                                                        '$\\\\mu^{2}/\\\\sigma^{2}$']).T)\n",
    "    F = {'Normal':lambda x:sts.norm.cdf(x,m,v),\n",
    "        'Exponencial':lambda x:sts.expon.cdf(x,0,m),\n",
    "        'Uniforme':lambda x:sts.uniform.cdf(x,inf,sup),\n",
    "        'Beta':lambda x:sts.beta.cdf(x,a,b),\n",
    "        'Gamma':lambda x:sts.gamma.cdf(x,a_,0,b_)}\n",
    "    t = np.arange(inf,sup+0.02,0.01)\n",
    "    Graficas = [plt.plot(t,F[x](t),label=x) for x in F.keys()]\n",
    "    plt.plot(t,map(Fn,t),label='Empirica')\n",
    "    plt.legend()\n",
    "    nDn =lambda l=1:1-2*sum(((-1)**(j-1))*ma.exp(-2*(j**2)*(l**2)) for j in range(1,300))\n",
    "    Quant = lambda alpha:max(q for q in np.arange(0.01,4,0.01) if nDn(q)<alpha)\n",
    "    KSs = {x:KS(X,F[x],x) for x in F.keys()}\n",
    "    Calc = {x:[KSs[x],ma.sqrt(n)*KSs[x],Quant(alpha),ma.sqrt(n)*KSs[x]<=Quant(alpha)] for x in F.keys()}\n",
    "    display(pd.DataFrame(Calc,index=['$D_n$','$\\sqrt{n}D_n$','$q_{%s}$'%alpha,'$H_0$']).T)"
   ]
  },
  {
   "cell_type": "code",
   "execution_count": 338,
   "metadata": {},
   "outputs": [
    {
     "data": {
      "text/html": [
       "<div>\n",
       "<style scoped>\n",
       "    .dataframe tbody tr th:only-of-type {\n",
       "        vertical-align: middle;\n",
       "    }\n",
       "\n",
       "    .dataframe tbody tr th {\n",
       "        vertical-align: top;\n",
       "    }\n",
       "\n",
       "    .dataframe thead th {\n",
       "        text-align: right;\n",
       "    }\n",
       "</style>\n",
       "<table border=\"1\" class=\"dataframe\">\n",
       "  <thead>\n",
       "    <tr style=\"text-align: right;\">\n",
       "      <th></th>\n",
       "      <th>$\\mu$</th>\n",
       "      <th>$\\sigma^2$</th>\n",
       "      <th>$\\min$</th>\n",
       "      <th>$\\max$</th>\n",
       "      <th>$\\alpha$</th>\n",
       "      <th>$\\beta$</th>\n",
       "      <th>$\\mu/\\sigma^{2}$</th>\n",
       "      <th>$\\mu^{2}/\\sigma^{2}$</th>\n",
       "    </tr>\n",
       "  </thead>\n",
       "  <tbody>\n",
       "    <tr>\n",
       "      <th>0</th>\n",
       "      <td>1.973118</td>\n",
       "      <td>4.006675</td>\n",
       "      <td>0.000118</td>\n",
       "      <td>15.524459</td>\n",
       "      <td>-2.918675</td>\n",
       "      <td>1.439455</td>\n",
       "      <td>0.492458</td>\n",
       "      <td>0.971677</td>\n",
       "    </tr>\n",
       "  </tbody>\n",
       "</table>\n",
       "</div>"
      ],
      "text/plain": [
       "      $\\mu$  $\\sigma^2$    $\\min$     $\\max$  $\\alpha$   $\\beta$  \\\n",
       "0  1.973118    4.006675  0.000118  15.524459 -2.918675  1.439455   \n",
       "\n",
       "   $\\mu/\\sigma^{2}$  $\\mu^{2}/\\sigma^{2}$  \n",
       "0          0.492458              0.971677  "
      ]
     },
     "metadata": {},
     "output_type": "display_data"
    },
    {
     "data": {
      "text/html": [
       "<div>\n",
       "<style scoped>\n",
       "    .dataframe tbody tr th:only-of-type {\n",
       "        vertical-align: middle;\n",
       "    }\n",
       "\n",
       "    .dataframe tbody tr th {\n",
       "        vertical-align: top;\n",
       "    }\n",
       "\n",
       "    .dataframe thead th {\n",
       "        text-align: right;\n",
       "    }\n",
       "</style>\n",
       "<table border=\"1\" class=\"dataframe\">\n",
       "  <thead>\n",
       "    <tr style=\"text-align: right;\">\n",
       "      <th></th>\n",
       "      <th>$D_n$</th>\n",
       "      <th>$\\sqrt{n}D_n$</th>\n",
       "      <th>$q_{0.1}$</th>\n",
       "      <th>$H_0$</th>\n",
       "    </tr>\n",
       "  </thead>\n",
       "  <tbody>\n",
       "    <tr>\n",
       "      <th>Beta</th>\n",
       "      <td>NaN</td>\n",
       "      <td>NaN</td>\n",
       "      <td>0.57</td>\n",
       "      <td>False</td>\n",
       "    </tr>\n",
       "    <tr>\n",
       "      <th>Exponencial</th>\n",
       "      <td>0.0136585</td>\n",
       "      <td>0.43192</td>\n",
       "      <td>0.57</td>\n",
       "      <td>True</td>\n",
       "    </tr>\n",
       "    <tr>\n",
       "      <th>Gamma</th>\n",
       "      <td>0.480409</td>\n",
       "      <td>15.1919</td>\n",
       "      <td>0.57</td>\n",
       "      <td>False</td>\n",
       "    </tr>\n",
       "    <tr>\n",
       "      <th>Normal</th>\n",
       "      <td>0.311208</td>\n",
       "      <td>9.84127</td>\n",
       "      <td>0.57</td>\n",
       "      <td>False</td>\n",
       "    </tr>\n",
       "    <tr>\n",
       "      <th>Uniforme</th>\n",
       "      <td>0.614013</td>\n",
       "      <td>19.4168</td>\n",
       "      <td>0.57</td>\n",
       "      <td>False</td>\n",
       "    </tr>\n",
       "  </tbody>\n",
       "</table>\n",
       "</div>"
      ],
      "text/plain": [
       "                 $D_n$ $\\sqrt{n}D_n$ $q_{0.1}$  $H_0$\n",
       "Beta               NaN           NaN      0.57  False\n",
       "Exponencial  0.0136585       0.43192      0.57   True\n",
       "Gamma         0.480409       15.1919      0.57  False\n",
       "Normal        0.311208       9.84127      0.57  False\n",
       "Uniforme      0.614013       19.4168      0.57  False"
      ]
     },
     "metadata": {},
     "output_type": "display_data"
    },
    {
     "data": {
      "image/png": "[encoded data removed]",
      "text/plain": [
       "<Figure size 432x288 with 1 Axes>"
      ]
     },
     "metadata": {},
     "output_type": "display_data"
    }
   ],
   "source": [
    "BondadDAjuste(np.random.exponential(2,1000),0.1)"
   ]
  }
 ],
 "metadata": {
  "kernelspec": {
   "display_name": "Python 2",
   "language": "python",
   "name": "python2"
  },
  "language_info": {
   "codemirror_mode": {
    "name": "ipython",
    "version": 2
   },
   "file_extension": ".py",
   "mimetype": "text/x-python",
   "name": "python",
   "nbconvert_exporter": "python",
   "pygments_lexer": "ipython2",
   "version": "2.7.15rc1"
  }
 },
 "nbformat": 4,
 "nbformat_minor": 2
}
